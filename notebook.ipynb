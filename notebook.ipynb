{
 "cells": [
  {
   "cell_type": "markdown",
   "id": "01e7defc-9e79-4bab-8841-d40893b2d53a",
   "metadata": {
    "jp-MarkdownHeadingCollapsed": true
   },
   "source": [
    "# Proyek Analisis Data: E-commerce Dataset\n",
    "- **Nama :** Insyuzuu Cahyani 'Aisyah\n",
    "- **Email :** m297b4kx1982@bangkit.academy\n",
    "- **ID Dicoding :** icainsyuzuu"
   ]
  },
  {
   "cell_type": "markdown",
   "id": "6e826acb-a049-4232-a6ce-0d21bda42f39",
   "metadata": {
    "jp-MarkdownHeadingCollapsed": true
   },
   "source": [
    "# Defining Business Questions\n",
    "1. What can we conclude about the market potential in these cities?\n",
    "2. How long is the average delivery time for orders?"
   ]
  },
  {
   "cell_type": "markdown",
   "id": "08295761-0de5-4f8c-9419-a5fc545770b3",
   "metadata": {},
   "source": [
    "# Import all used packages/libraries"
   ]
  },
  {
   "cell_type": "code",
   "execution_count": 1,
   "id": "9bdf6217-a753-4e50-b230-327c7e85c3a0",
   "metadata": {},
   "outputs": [],
   "source": [
    "import numpy as np\n",
    "import pandas as pd\n",
    "import matplotlib.pyplot as plt\n",
    "import seaborn as sns"
   ]
  },
  {
   "cell_type": "markdown",
   "id": "b5d9d2c5-5142-44f0-9578-3632f805cc90",
   "metadata": {},
   "source": [
    "# Data Wrangling"
   ]
  },
  {
   "cell_type": "markdown",
   "id": "6bc6f340-06d1-42e9-a28f-058daacc83a5",
   "metadata": {},
   "source": [
    "## Gathering Data"
   ]
  },
  {
   "cell_type": "code",
   "execution_count": 2,
   "id": "89586d1e-d114-46ef-b4cb-415320ccaf98",
   "metadata": {},
   "outputs": [
    {
     "data": {
      "text/html": [
       "<div>\n",
       "<style scoped>\n",
       "    .dataframe tbody tr th:only-of-type {\n",
       "        vertical-align: middle;\n",
       "    }\n",
       "\n",
       "    .dataframe tbody tr th {\n",
       "        vertical-align: top;\n",
       "    }\n",
       "\n",
       "    .dataframe thead th {\n",
       "        text-align: right;\n",
       "    }\n",
       "</style>\n",
       "<table border=\"1\" class=\"dataframe\">\n",
       "  <thead>\n",
       "    <tr style=\"text-align: right;\">\n",
       "      <th></th>\n",
       "      <th>customer_id</th>\n",
       "      <th>customer_unique_id</th>\n",
       "      <th>customer_zip_code_prefix</th>\n",
       "      <th>customer_city</th>\n",
       "      <th>customer_state</th>\n",
       "    </tr>\n",
       "  </thead>\n",
       "  <tbody>\n",
       "    <tr>\n",
       "      <th>0</th>\n",
       "      <td>06b8999e2fba1a1fbc88172c00ba8bc7</td>\n",
       "      <td>861eff4711a542e4b93843c6dd7febb0</td>\n",
       "      <td>14409</td>\n",
       "      <td>franca</td>\n",
       "      <td>SP</td>\n",
       "    </tr>\n",
       "    <tr>\n",
       "      <th>1</th>\n",
       "      <td>18955e83d337fd6b2def6b18a428ac77</td>\n",
       "      <td>290c77bc529b7ac935b93aa66c333dc3</td>\n",
       "      <td>9790</td>\n",
       "      <td>sao bernardo do campo</td>\n",
       "      <td>SP</td>\n",
       "    </tr>\n",
       "    <tr>\n",
       "      <th>2</th>\n",
       "      <td>4e7b3e00288586ebd08712fdd0374a03</td>\n",
       "      <td>060e732b5b29e8181a18229c7b0b2b5e</td>\n",
       "      <td>1151</td>\n",
       "      <td>sao paulo</td>\n",
       "      <td>SP</td>\n",
       "    </tr>\n",
       "    <tr>\n",
       "      <th>3</th>\n",
       "      <td>b2b6027bc5c5109e529d4dc6358b12c3</td>\n",
       "      <td>259dac757896d24d7702b9acbbff3f3c</td>\n",
       "      <td>8775</td>\n",
       "      <td>mogi das cruzes</td>\n",
       "      <td>SP</td>\n",
       "    </tr>\n",
       "    <tr>\n",
       "      <th>4</th>\n",
       "      <td>4f2d8ab171c80ec8364f7c12e35b23ad</td>\n",
       "      <td>345ecd01c38d18a9036ed96c73b8d066</td>\n",
       "      <td>13056</td>\n",
       "      <td>campinas</td>\n",
       "      <td>SP</td>\n",
       "    </tr>\n",
       "  </tbody>\n",
       "</table>\n",
       "</div>"
      ],
      "text/plain": [
       "                        customer_id                customer_unique_id  \\\n",
       "0  06b8999e2fba1a1fbc88172c00ba8bc7  861eff4711a542e4b93843c6dd7febb0   \n",
       "1  18955e83d337fd6b2def6b18a428ac77  290c77bc529b7ac935b93aa66c333dc3   \n",
       "2  4e7b3e00288586ebd08712fdd0374a03  060e732b5b29e8181a18229c7b0b2b5e   \n",
       "3  b2b6027bc5c5109e529d4dc6358b12c3  259dac757896d24d7702b9acbbff3f3c   \n",
       "4  4f2d8ab171c80ec8364f7c12e35b23ad  345ecd01c38d18a9036ed96c73b8d066   \n",
       "\n",
       "   customer_zip_code_prefix          customer_city customer_state  \n",
       "0                     14409                 franca             SP  \n",
       "1                      9790  sao bernardo do campo             SP  \n",
       "2                      1151              sao paulo             SP  \n",
       "3                      8775        mogi das cruzes             SP  \n",
       "4                     13056               campinas             SP  "
      ]
     },
     "execution_count": 2,
     "metadata": {},
     "output_type": "execute_result"
    }
   ],
   "source": [
    "# Load tabel customers\n",
    "customers_df = pd.read_csv(\"https://raw.githubusercontent.com/icainsyuzuu/proyek-analisis-data/data/customers_dataset.csv\")\n",
    "# Show 5 data of the top dataframe\n",
    "customers_df.head()"
   ]
  },
  {
   "cell_type": "code",
   "execution_count": 3,
   "id": "ed802f17-d16f-41a6-a903-94b799676dca",
   "metadata": {},
   "outputs": [
    {
     "data": {
      "text/html": [
       "<div>\n",
       "<style scoped>\n",
       "    .dataframe tbody tr th:only-of-type {\n",
       "        vertical-align: middle;\n",
       "    }\n",
       "\n",
       "    .dataframe tbody tr th {\n",
       "        vertical-align: top;\n",
       "    }\n",
       "\n",
       "    .dataframe thead th {\n",
       "        text-align: right;\n",
       "    }\n",
       "</style>\n",
       "<table border=\"1\" class=\"dataframe\">\n",
       "  <thead>\n",
       "    <tr style=\"text-align: right;\">\n",
       "      <th></th>\n",
       "      <th>order_id</th>\n",
       "      <th>customer_id</th>\n",
       "      <th>order_status</th>\n",
       "      <th>order_purchase_timestamp</th>\n",
       "      <th>order_approved_at</th>\n",
       "      <th>order_delivered_carrier_date</th>\n",
       "      <th>order_delivered_customer_date</th>\n",
       "      <th>order_estimated_delivery_date</th>\n",
       "    </tr>\n",
       "  </thead>\n",
       "  <tbody>\n",
       "    <tr>\n",
       "      <th>0</th>\n",
       "      <td>e481f51cbdc54678b7cc49136f2d6af7</td>\n",
       "      <td>9ef432eb6251297304e76186b10a928d</td>\n",
       "      <td>delivered</td>\n",
       "      <td>2017-10-02 10:56:33</td>\n",
       "      <td>2017-10-02 11:07:15</td>\n",
       "      <td>2017-10-04 19:55:00</td>\n",
       "      <td>2017-10-10 21:25:13</td>\n",
       "      <td>2017-10-18 00:00:00</td>\n",
       "    </tr>\n",
       "    <tr>\n",
       "      <th>1</th>\n",
       "      <td>53cdb2fc8bc7dce0b6741e2150273451</td>\n",
       "      <td>b0830fb4747a6c6d20dea0b8c802d7ef</td>\n",
       "      <td>delivered</td>\n",
       "      <td>2018-07-24 20:41:37</td>\n",
       "      <td>2018-07-26 03:24:27</td>\n",
       "      <td>2018-07-26 14:31:00</td>\n",
       "      <td>2018-08-07 15:27:45</td>\n",
       "      <td>2018-08-13 00:00:00</td>\n",
       "    </tr>\n",
       "    <tr>\n",
       "      <th>2</th>\n",
       "      <td>47770eb9100c2d0c44946d9cf07ec65d</td>\n",
       "      <td>41ce2a54c0b03bf3443c3d931a367089</td>\n",
       "      <td>delivered</td>\n",
       "      <td>2018-08-08 08:38:49</td>\n",
       "      <td>2018-08-08 08:55:23</td>\n",
       "      <td>2018-08-08 13:50:00</td>\n",
       "      <td>2018-08-17 18:06:29</td>\n",
       "      <td>2018-09-04 00:00:00</td>\n",
       "    </tr>\n",
       "    <tr>\n",
       "      <th>3</th>\n",
       "      <td>949d5b44dbf5de918fe9c16f97b45f8a</td>\n",
       "      <td>f88197465ea7920adcdbec7375364d82</td>\n",
       "      <td>delivered</td>\n",
       "      <td>2017-11-18 19:28:06</td>\n",
       "      <td>2017-11-18 19:45:59</td>\n",
       "      <td>2017-11-22 13:39:59</td>\n",
       "      <td>2017-12-02 00:28:42</td>\n",
       "      <td>2017-12-15 00:00:00</td>\n",
       "    </tr>\n",
       "    <tr>\n",
       "      <th>4</th>\n",
       "      <td>ad21c59c0840e6cb83a9ceb5573f8159</td>\n",
       "      <td>8ab97904e6daea8866dbdbc4fb7aad2c</td>\n",
       "      <td>delivered</td>\n",
       "      <td>2018-02-13 21:18:39</td>\n",
       "      <td>2018-02-13 22:20:29</td>\n",
       "      <td>2018-02-14 19:46:34</td>\n",
       "      <td>2018-02-16 18:17:02</td>\n",
       "      <td>2018-02-26 00:00:00</td>\n",
       "    </tr>\n",
       "  </tbody>\n",
       "</table>\n",
       "</div>"
      ],
      "text/plain": [
       "                           order_id                       customer_id  \\\n",
       "0  e481f51cbdc54678b7cc49136f2d6af7  9ef432eb6251297304e76186b10a928d   \n",
       "1  53cdb2fc8bc7dce0b6741e2150273451  b0830fb4747a6c6d20dea0b8c802d7ef   \n",
       "2  47770eb9100c2d0c44946d9cf07ec65d  41ce2a54c0b03bf3443c3d931a367089   \n",
       "3  949d5b44dbf5de918fe9c16f97b45f8a  f88197465ea7920adcdbec7375364d82   \n",
       "4  ad21c59c0840e6cb83a9ceb5573f8159  8ab97904e6daea8866dbdbc4fb7aad2c   \n",
       "\n",
       "  order_status order_purchase_timestamp    order_approved_at  \\\n",
       "0    delivered      2017-10-02 10:56:33  2017-10-02 11:07:15   \n",
       "1    delivered      2018-07-24 20:41:37  2018-07-26 03:24:27   \n",
       "2    delivered      2018-08-08 08:38:49  2018-08-08 08:55:23   \n",
       "3    delivered      2017-11-18 19:28:06  2017-11-18 19:45:59   \n",
       "4    delivered      2018-02-13 21:18:39  2018-02-13 22:20:29   \n",
       "\n",
       "  order_delivered_carrier_date order_delivered_customer_date  \\\n",
       "0          2017-10-04 19:55:00           2017-10-10 21:25:13   \n",
       "1          2018-07-26 14:31:00           2018-08-07 15:27:45   \n",
       "2          2018-08-08 13:50:00           2018-08-17 18:06:29   \n",
       "3          2017-11-22 13:39:59           2017-12-02 00:28:42   \n",
       "4          2018-02-14 19:46:34           2018-02-16 18:17:02   \n",
       "\n",
       "  order_estimated_delivery_date  \n",
       "0           2017-10-18 00:00:00  \n",
       "1           2018-08-13 00:00:00  \n",
       "2           2018-09-04 00:00:00  \n",
       "3           2017-12-15 00:00:00  \n",
       "4           2018-02-26 00:00:00  "
      ]
     },
     "execution_count": 3,
     "metadata": {},
     "output_type": "execute_result"
    }
   ],
   "source": [
    "# Load tabel orders\n",
    "orders_df = pd.read_csv(\"https://raw.githubusercontent.com/icainsyuzuu/proyek-analisis-data/data/orders_dataset.csv\")\n",
    "# Show 5 data of the top dataframe\n",
    "orders_df.head()"
   ]
  },
  {
   "cell_type": "markdown",
   "id": "3925e3f4-f200-40df-8526-777e52a4fe60",
   "metadata": {},
   "source": [
    "### Insight:\n",
    "- Dataset customers and orders succesfull to show\n",
    "- The dataset already to process in next step like assesing data, cleaning, and visualization to answer the business question."
   ]
  },
  {
   "cell_type": "markdown",
   "id": "01e380c2-cd08-4e37-b720-c77d42d99ee6",
   "metadata": {},
   "source": [
    "## Assesing Data"
   ]
  },
  {
   "cell_type": "code",
   "execution_count": 4,
   "id": "aa3d1dea-c993-4ac5-9231-933f7b935311",
   "metadata": {},
   "outputs": [
    {
     "name": "stdout",
     "output_type": "stream",
     "text": [
      "<class 'pandas.core.frame.DataFrame'>\n",
      "RangeIndex: 99441 entries, 0 to 99440\n",
      "Data columns (total 5 columns):\n",
      " #   Column                    Non-Null Count  Dtype \n",
      "---  ------                    --------------  ----- \n",
      " 0   customer_id               99441 non-null  object\n",
      " 1   customer_unique_id        99441 non-null  object\n",
      " 2   customer_zip_code_prefix  99441 non-null  int64 \n",
      " 3   customer_city             99441 non-null  object\n",
      " 4   customer_state            99441 non-null  object\n",
      "dtypes: int64(1), object(4)\n",
      "memory usage: 3.8+ MB\n"
     ]
    }
   ],
   "source": [
    "# Asses Data customers_df\n",
    "customers_df.info()"
   ]
  },
  {
   "cell_type": "code",
   "execution_count": 5,
   "id": "a64399f1-df74-44f6-8645-a571c4fc89eb",
   "metadata": {},
   "outputs": [
    {
     "data": {
      "text/plain": [
       "customer_id                 0\n",
       "customer_unique_id          0\n",
       "customer_zip_code_prefix    0\n",
       "customer_city               0\n",
       "customer_state              0\n",
       "dtype: int64"
      ]
     },
     "execution_count": 5,
     "metadata": {},
     "output_type": "execute_result"
    }
   ],
   "source": [
    "# Check missing values\n",
    "customers_df.isna().sum()"
   ]
  },
  {
   "cell_type": "code",
   "execution_count": 6,
   "id": "446636c1-1e2c-4480-b759-cc31dcdc148e",
   "metadata": {},
   "outputs": [
    {
     "name": "stdout",
     "output_type": "stream",
     "text": [
      "Jumlah duplikasi:  0\n"
     ]
    }
   ],
   "source": [
    "# Check duplicate of the data\n",
    "print(\"Jumlah duplikasi: \", customers_df.duplicated().sum())"
   ]
  },
  {
   "cell_type": "code",
   "execution_count": 7,
   "id": "5d30a898-168d-4354-8e90-c2a05f653109",
   "metadata": {},
   "outputs": [
    {
     "data": {
      "text/html": [
       "<div>\n",
       "<style scoped>\n",
       "    .dataframe tbody tr th:only-of-type {\n",
       "        vertical-align: middle;\n",
       "    }\n",
       "\n",
       "    .dataframe tbody tr th {\n",
       "        vertical-align: top;\n",
       "    }\n",
       "\n",
       "    .dataframe thead th {\n",
       "        text-align: right;\n",
       "    }\n",
       "</style>\n",
       "<table border=\"1\" class=\"dataframe\">\n",
       "  <thead>\n",
       "    <tr style=\"text-align: right;\">\n",
       "      <th></th>\n",
       "      <th>customer_zip_code_prefix</th>\n",
       "    </tr>\n",
       "  </thead>\n",
       "  <tbody>\n",
       "    <tr>\n",
       "      <th>count</th>\n",
       "      <td>99441.000000</td>\n",
       "    </tr>\n",
       "    <tr>\n",
       "      <th>mean</th>\n",
       "      <td>35137.474583</td>\n",
       "    </tr>\n",
       "    <tr>\n",
       "      <th>std</th>\n",
       "      <td>29797.938996</td>\n",
       "    </tr>\n",
       "    <tr>\n",
       "      <th>min</th>\n",
       "      <td>1003.000000</td>\n",
       "    </tr>\n",
       "    <tr>\n",
       "      <th>25%</th>\n",
       "      <td>11347.000000</td>\n",
       "    </tr>\n",
       "    <tr>\n",
       "      <th>50%</th>\n",
       "      <td>24416.000000</td>\n",
       "    </tr>\n",
       "    <tr>\n",
       "      <th>75%</th>\n",
       "      <td>58900.000000</td>\n",
       "    </tr>\n",
       "    <tr>\n",
       "      <th>max</th>\n",
       "      <td>99990.000000</td>\n",
       "    </tr>\n",
       "  </tbody>\n",
       "</table>\n",
       "</div>"
      ],
      "text/plain": [
       "       customer_zip_code_prefix\n",
       "count              99441.000000\n",
       "mean               35137.474583\n",
       "std                29797.938996\n",
       "min                 1003.000000\n",
       "25%                11347.000000\n",
       "50%                24416.000000\n",
       "75%                58900.000000\n",
       "max                99990.000000"
      ]
     },
     "execution_count": 7,
     "metadata": {},
     "output_type": "execute_result"
    }
   ],
   "source": [
    "# Use static parameter from numeric column in the customers_df\n",
    "customers_df.describe()"
   ]
  },
  {
   "cell_type": "code",
   "execution_count": 8,
   "id": "6839e0f9-3a8b-404a-ad6d-d6be932c0794",
   "metadata": {},
   "outputs": [
    {
     "name": "stdout",
     "output_type": "stream",
     "text": [
      "<class 'pandas.core.frame.DataFrame'>\n",
      "RangeIndex: 99441 entries, 0 to 99440\n",
      "Data columns (total 8 columns):\n",
      " #   Column                         Non-Null Count  Dtype \n",
      "---  ------                         --------------  ----- \n",
      " 0   order_id                       99441 non-null  object\n",
      " 1   customer_id                    99441 non-null  object\n",
      " 2   order_status                   99441 non-null  object\n",
      " 3   order_purchase_timestamp       99441 non-null  object\n",
      " 4   order_approved_at              99281 non-null  object\n",
      " 5   order_delivered_carrier_date   97658 non-null  object\n",
      " 6   order_delivered_customer_date  96476 non-null  object\n",
      " 7   order_estimated_delivery_date  99441 non-null  object\n",
      "dtypes: object(8)\n",
      "memory usage: 6.1+ MB\n"
     ]
    }
   ],
   "source": [
    "# Asses Data orders_df\n",
    "orders_df.info()"
   ]
  },
  {
   "cell_type": "code",
   "execution_count": 9,
   "id": "2b318963-1d80-403d-a8d8-20de3952d7e5",
   "metadata": {},
   "outputs": [
    {
     "data": {
      "text/plain": [
       "order_id                            0\n",
       "customer_id                         0\n",
       "order_status                        0\n",
       "order_purchase_timestamp            0\n",
       "order_approved_at                 160\n",
       "order_delivered_carrier_date     1783\n",
       "order_delivered_customer_date    2965\n",
       "order_estimated_delivery_date       0\n",
       "dtype: int64"
      ]
     },
     "execution_count": 9,
     "metadata": {},
     "output_type": "execute_result"
    }
   ],
   "source": [
    "# There are missing values in order_approved_at, order_delivered_carrier_date, and order_delivered_customer_date\n",
    "orders_df.isna().sum()"
   ]
  },
  {
   "cell_type": "code",
   "execution_count": 10,
   "id": "8b7ed218-646d-49d5-8462-71ccb62827ec",
   "metadata": {},
   "outputs": [
    {
     "name": "stdout",
     "output_type": "stream",
     "text": [
      "Jumlah duplikasi:  0\n"
     ]
    }
   ],
   "source": [
    "# Check for data duplication\n",
    "print(\"Jumlah duplikasi: \", orders_df.duplicated().sum())"
   ]
  },
  {
   "cell_type": "code",
   "execution_count": 11,
   "id": "3f022a53-c548-49d8-a78b-2a4815f8a3d7",
   "metadata": {},
   "outputs": [
    {
     "data": {
      "text/html": [
       "<div>\n",
       "<style scoped>\n",
       "    .dataframe tbody tr th:only-of-type {\n",
       "        vertical-align: middle;\n",
       "    }\n",
       "\n",
       "    .dataframe tbody tr th {\n",
       "        vertical-align: top;\n",
       "    }\n",
       "\n",
       "    .dataframe thead th {\n",
       "        text-align: right;\n",
       "    }\n",
       "</style>\n",
       "<table border=\"1\" class=\"dataframe\">\n",
       "  <thead>\n",
       "    <tr style=\"text-align: right;\">\n",
       "      <th></th>\n",
       "      <th>order_id</th>\n",
       "      <th>customer_id</th>\n",
       "      <th>order_status</th>\n",
       "      <th>order_purchase_timestamp</th>\n",
       "      <th>order_approved_at</th>\n",
       "      <th>order_delivered_carrier_date</th>\n",
       "      <th>order_delivered_customer_date</th>\n",
       "      <th>order_estimated_delivery_date</th>\n",
       "    </tr>\n",
       "  </thead>\n",
       "  <tbody>\n",
       "    <tr>\n",
       "      <th>count</th>\n",
       "      <td>99441</td>\n",
       "      <td>99441</td>\n",
       "      <td>99441</td>\n",
       "      <td>99441</td>\n",
       "      <td>99281</td>\n",
       "      <td>97658</td>\n",
       "      <td>96476</td>\n",
       "      <td>99441</td>\n",
       "    </tr>\n",
       "    <tr>\n",
       "      <th>unique</th>\n",
       "      <td>99441</td>\n",
       "      <td>99441</td>\n",
       "      <td>8</td>\n",
       "      <td>98875</td>\n",
       "      <td>90733</td>\n",
       "      <td>81018</td>\n",
       "      <td>95664</td>\n",
       "      <td>459</td>\n",
       "    </tr>\n",
       "    <tr>\n",
       "      <th>top</th>\n",
       "      <td>66dea50a8b16d9b4dee7af250b4be1a5</td>\n",
       "      <td>edb027a75a1449115f6b43211ae02a24</td>\n",
       "      <td>delivered</td>\n",
       "      <td>2018-08-02 12:05:26</td>\n",
       "      <td>2018-02-27 04:31:10</td>\n",
       "      <td>2018-05-09 15:48:00</td>\n",
       "      <td>2018-05-08 19:36:48</td>\n",
       "      <td>2017-12-20 00:00:00</td>\n",
       "    </tr>\n",
       "    <tr>\n",
       "      <th>freq</th>\n",
       "      <td>1</td>\n",
       "      <td>1</td>\n",
       "      <td>96478</td>\n",
       "      <td>3</td>\n",
       "      <td>9</td>\n",
       "      <td>47</td>\n",
       "      <td>3</td>\n",
       "      <td>522</td>\n",
       "    </tr>\n",
       "  </tbody>\n",
       "</table>\n",
       "</div>"
      ],
      "text/plain": [
       "                                order_id                       customer_id  \\\n",
       "count                              99441                             99441   \n",
       "unique                             99441                             99441   \n",
       "top     66dea50a8b16d9b4dee7af250b4be1a5  edb027a75a1449115f6b43211ae02a24   \n",
       "freq                                   1                                 1   \n",
       "\n",
       "       order_status order_purchase_timestamp    order_approved_at  \\\n",
       "count         99441                    99441                99281   \n",
       "unique            8                    98875                90733   \n",
       "top       delivered      2018-08-02 12:05:26  2018-02-27 04:31:10   \n",
       "freq          96478                        3                    9   \n",
       "\n",
       "       order_delivered_carrier_date order_delivered_customer_date  \\\n",
       "count                         97658                         96476   \n",
       "unique                        81018                         95664   \n",
       "top             2018-05-09 15:48:00           2018-05-08 19:36:48   \n",
       "freq                             47                             3   \n",
       "\n",
       "       order_estimated_delivery_date  \n",
       "count                          99441  \n",
       "unique                           459  \n",
       "top              2017-12-20 00:00:00  \n",
       "freq                             522  "
      ]
     },
     "execution_count": 11,
     "metadata": {},
     "output_type": "execute_result"
    }
   ],
   "source": [
    "# Check statistical parameters\n",
    "orders_df.describe()"
   ]
  },
  {
   "cell_type": "markdown",
   "id": "c42d5d5d-4167-49d7-a501-8cc38dcc098e",
   "metadata": {},
   "source": [
    "## Cleaning Data"
   ]
  },
  {
   "cell_type": "code",
   "execution_count": 12,
   "id": "f0219d00-87c1-4d3c-919c-91881362b4a2",
   "metadata": {},
   "outputs": [
    {
     "data": {
      "text/html": [
       "<div>\n",
       "<style scoped>\n",
       "    .dataframe tbody tr th:only-of-type {\n",
       "        vertical-align: middle;\n",
       "    }\n",
       "\n",
       "    .dataframe tbody tr th {\n",
       "        vertical-align: top;\n",
       "    }\n",
       "\n",
       "    .dataframe thead th {\n",
       "        text-align: right;\n",
       "    }\n",
       "</style>\n",
       "<table border=\"1\" class=\"dataframe\">\n",
       "  <thead>\n",
       "    <tr style=\"text-align: right;\">\n",
       "      <th></th>\n",
       "      <th>order_id</th>\n",
       "      <th>customer_id</th>\n",
       "      <th>order_status</th>\n",
       "      <th>order_purchase_timestamp</th>\n",
       "      <th>order_approved_at</th>\n",
       "      <th>order_delivered_carrier_date</th>\n",
       "      <th>order_delivered_customer_date</th>\n",
       "      <th>order_estimated_delivery_date</th>\n",
       "    </tr>\n",
       "  </thead>\n",
       "  <tbody>\n",
       "    <tr>\n",
       "      <th>1130</th>\n",
       "      <td>00b1cb0320190ca0daa2c88b35206009</td>\n",
       "      <td>3532ba38a3fd242259a514ac2b6ae6b6</td>\n",
       "      <td>canceled</td>\n",
       "      <td>2018-08-28 15:26:39</td>\n",
       "      <td>NaN</td>\n",
       "      <td>NaN</td>\n",
       "      <td>NaN</td>\n",
       "      <td>2018-09-12 00:00:00</td>\n",
       "    </tr>\n",
       "    <tr>\n",
       "      <th>1801</th>\n",
       "      <td>ed3efbd3a87bea76c2812c66a0b32219</td>\n",
       "      <td>191984a8ba4cbb2145acb4fe35b69664</td>\n",
       "      <td>canceled</td>\n",
       "      <td>2018-09-20 13:54:16</td>\n",
       "      <td>NaN</td>\n",
       "      <td>NaN</td>\n",
       "      <td>NaN</td>\n",
       "      <td>2018-10-17 00:00:00</td>\n",
       "    </tr>\n",
       "    <tr>\n",
       "      <th>1868</th>\n",
       "      <td>df8282afe61008dc26c6c31011474d02</td>\n",
       "      <td>aa797b187b5466bc6925aaaa4bb3bed1</td>\n",
       "      <td>canceled</td>\n",
       "      <td>2017-03-04 12:14:30</td>\n",
       "      <td>NaN</td>\n",
       "      <td>NaN</td>\n",
       "      <td>NaN</td>\n",
       "      <td>2017-04-10 00:00:00</td>\n",
       "    </tr>\n",
       "    <tr>\n",
       "      <th>2029</th>\n",
       "      <td>8d4c637f1accf7a88a4555f02741e606</td>\n",
       "      <td>b1dd715db389a2077f43174e7a675d07</td>\n",
       "      <td>canceled</td>\n",
       "      <td>2018-08-29 16:27:49</td>\n",
       "      <td>NaN</td>\n",
       "      <td>NaN</td>\n",
       "      <td>NaN</td>\n",
       "      <td>2018-09-13 00:00:00</td>\n",
       "    </tr>\n",
       "    <tr>\n",
       "      <th>2161</th>\n",
       "      <td>7a9d4c7f9b068337875b95465330f2fc</td>\n",
       "      <td>7f71ae48074c0cfec9195f88fcbfac55</td>\n",
       "      <td>canceled</td>\n",
       "      <td>2017-05-01 16:12:39</td>\n",
       "      <td>NaN</td>\n",
       "      <td>NaN</td>\n",
       "      <td>NaN</td>\n",
       "      <td>2017-05-30 00:00:00</td>\n",
       "    </tr>\n",
       "    <tr>\n",
       "      <th>...</th>\n",
       "      <td>...</td>\n",
       "      <td>...</td>\n",
       "      <td>...</td>\n",
       "      <td>...</td>\n",
       "      <td>...</td>\n",
       "      <td>...</td>\n",
       "      <td>...</td>\n",
       "      <td>...</td>\n",
       "    </tr>\n",
       "    <tr>\n",
       "      <th>97696</th>\n",
       "      <td>5a00b4d35edffc56b825c3646a99ba9d</td>\n",
       "      <td>6a3bdf004ca96338fb5fad1b8d93c2e6</td>\n",
       "      <td>canceled</td>\n",
       "      <td>2017-07-02 15:38:46</td>\n",
       "      <td>NaN</td>\n",
       "      <td>NaN</td>\n",
       "      <td>NaN</td>\n",
       "      <td>2017-07-25 00:00:00</td>\n",
       "    </tr>\n",
       "    <tr>\n",
       "      <th>98415</th>\n",
       "      <td>227c804e2a44760671a6a5697ea549e4</td>\n",
       "      <td>62e7477e75e542243ee62a0ba73f410f</td>\n",
       "      <td>canceled</td>\n",
       "      <td>2017-09-28 15:02:56</td>\n",
       "      <td>NaN</td>\n",
       "      <td>NaN</td>\n",
       "      <td>NaN</td>\n",
       "      <td>2017-10-16 00:00:00</td>\n",
       "    </tr>\n",
       "    <tr>\n",
       "      <th>98909</th>\n",
       "      <td>e49e7ce1471b4693482d40c2bd3ad196</td>\n",
       "      <td>e4e7ab3f449aeb401f0216f86c2104db</td>\n",
       "      <td>canceled</td>\n",
       "      <td>2018-08-07 11:16:28</td>\n",
       "      <td>NaN</td>\n",
       "      <td>NaN</td>\n",
       "      <td>NaN</td>\n",
       "      <td>2018-08-10 00:00:00</td>\n",
       "    </tr>\n",
       "    <tr>\n",
       "      <th>99283</th>\n",
       "      <td>3a3cddda5a7c27851bd96c3313412840</td>\n",
       "      <td>0b0d6095c5555fe083844281f6b093bb</td>\n",
       "      <td>canceled</td>\n",
       "      <td>2018-08-31 16:13:44</td>\n",
       "      <td>NaN</td>\n",
       "      <td>NaN</td>\n",
       "      <td>NaN</td>\n",
       "      <td>2018-10-01 00:00:00</td>\n",
       "    </tr>\n",
       "    <tr>\n",
       "      <th>99347</th>\n",
       "      <td>a89abace0dcc01eeb267a9660b5ac126</td>\n",
       "      <td>2f0524a7b1b3845a1a57fcf3910c4333</td>\n",
       "      <td>canceled</td>\n",
       "      <td>2018-09-06 18:45:47</td>\n",
       "      <td>NaN</td>\n",
       "      <td>NaN</td>\n",
       "      <td>NaN</td>\n",
       "      <td>2018-09-27 00:00:00</td>\n",
       "    </tr>\n",
       "  </tbody>\n",
       "</table>\n",
       "<p>160 rows × 8 columns</p>\n",
       "</div>"
      ],
      "text/plain": [
       "                               order_id                       customer_id  \\\n",
       "1130   00b1cb0320190ca0daa2c88b35206009  3532ba38a3fd242259a514ac2b6ae6b6   \n",
       "1801   ed3efbd3a87bea76c2812c66a0b32219  191984a8ba4cbb2145acb4fe35b69664   \n",
       "1868   df8282afe61008dc26c6c31011474d02  aa797b187b5466bc6925aaaa4bb3bed1   \n",
       "2029   8d4c637f1accf7a88a4555f02741e606  b1dd715db389a2077f43174e7a675d07   \n",
       "2161   7a9d4c7f9b068337875b95465330f2fc  7f71ae48074c0cfec9195f88fcbfac55   \n",
       "...                                 ...                               ...   \n",
       "97696  5a00b4d35edffc56b825c3646a99ba9d  6a3bdf004ca96338fb5fad1b8d93c2e6   \n",
       "98415  227c804e2a44760671a6a5697ea549e4  62e7477e75e542243ee62a0ba73f410f   \n",
       "98909  e49e7ce1471b4693482d40c2bd3ad196  e4e7ab3f449aeb401f0216f86c2104db   \n",
       "99283  3a3cddda5a7c27851bd96c3313412840  0b0d6095c5555fe083844281f6b093bb   \n",
       "99347  a89abace0dcc01eeb267a9660b5ac126  2f0524a7b1b3845a1a57fcf3910c4333   \n",
       "\n",
       "      order_status order_purchase_timestamp order_approved_at  \\\n",
       "1130      canceled      2018-08-28 15:26:39               NaN   \n",
       "1801      canceled      2018-09-20 13:54:16               NaN   \n",
       "1868      canceled      2017-03-04 12:14:30               NaN   \n",
       "2029      canceled      2018-08-29 16:27:49               NaN   \n",
       "2161      canceled      2017-05-01 16:12:39               NaN   \n",
       "...            ...                      ...               ...   \n",
       "97696     canceled      2017-07-02 15:38:46               NaN   \n",
       "98415     canceled      2017-09-28 15:02:56               NaN   \n",
       "98909     canceled      2018-08-07 11:16:28               NaN   \n",
       "99283     canceled      2018-08-31 16:13:44               NaN   \n",
       "99347     canceled      2018-09-06 18:45:47               NaN   \n",
       "\n",
       "      order_delivered_carrier_date order_delivered_customer_date  \\\n",
       "1130                           NaN                           NaN   \n",
       "1801                           NaN                           NaN   \n",
       "1868                           NaN                           NaN   \n",
       "2029                           NaN                           NaN   \n",
       "2161                           NaN                           NaN   \n",
       "...                            ...                           ...   \n",
       "97696                          NaN                           NaN   \n",
       "98415                          NaN                           NaN   \n",
       "98909                          NaN                           NaN   \n",
       "99283                          NaN                           NaN   \n",
       "99347                          NaN                           NaN   \n",
       "\n",
       "      order_estimated_delivery_date  \n",
       "1130            2018-09-12 00:00:00  \n",
       "1801            2018-10-17 00:00:00  \n",
       "1868            2017-04-10 00:00:00  \n",
       "2029            2018-09-13 00:00:00  \n",
       "2161            2017-05-30 00:00:00  \n",
       "...                             ...  \n",
       "97696           2017-07-25 00:00:00  \n",
       "98415           2017-10-16 00:00:00  \n",
       "98909           2018-08-10 00:00:00  \n",
       "99283           2018-10-01 00:00:00  \n",
       "99347           2018-09-27 00:00:00  \n",
       "\n",
       "[160 rows x 8 columns]"
      ]
     },
     "execution_count": 12,
     "metadata": {},
     "output_type": "execute_result"
    }
   ],
   "source": [
    "# Handle missing value\n",
    "orders_df[orders_df.order_approved_at.isna()]"
   ]
  },
  {
   "cell_type": "code",
   "execution_count": 13,
   "id": "dcbe6645-19a5-4aa4-8cf2-fc42ac04995f",
   "metadata": {},
   "outputs": [
    {
     "data": {
      "text/plain": [
       "order_approved_at\n",
       "2018-02-27 04:31:10    9\n",
       "2017-11-07 07:30:38    7\n",
       "2018-02-06 05:31:52    7\n",
       "2017-12-05 10:30:42    7\n",
       "2017-11-07 07:30:29    7\n",
       "                      ..\n",
       "2018-02-04 14:50:22    1\n",
       "2018-06-05 04:51:42    1\n",
       "2017-11-26 10:36:06    1\n",
       "2018-06-27 11:06:41    1\n",
       "2017-07-09 22:10:13    1\n",
       "Name: count, Length: 90733, dtype: int64"
      ]
     },
     "execution_count": 13,
     "metadata": {},
     "output_type": "execute_result"
    }
   ],
   "source": [
    "orders_df.order_approved_at.value_counts()"
   ]
  },
  {
   "cell_type": "code",
   "execution_count": 14,
   "id": "2800ad2c-326b-4746-9f20-77b006688179",
   "metadata": {},
   "outputs": [],
   "source": [
    "orders_df.fillna(value=\"2018-02-27 04:31:10\", inplace=True)"
   ]
  },
  {
   "cell_type": "code",
   "execution_count": 15,
   "id": "6c2490d3-364e-48d9-9cc9-27d7943dff7a",
   "metadata": {},
   "outputs": [
    {
     "data": {
      "text/plain": [
       "order_id                         0\n",
       "customer_id                      0\n",
       "order_status                     0\n",
       "order_purchase_timestamp         0\n",
       "order_approved_at                0\n",
       "order_delivered_carrier_date     0\n",
       "order_delivered_customer_date    0\n",
       "order_estimated_delivery_date    0\n",
       "dtype: int64"
      ]
     },
     "execution_count": 15,
     "metadata": {},
     "output_type": "execute_result"
    }
   ],
   "source": [
    "orders_df.isna().sum()"
   ]
  },
  {
   "cell_type": "code",
   "execution_count": 16,
   "id": "55fe5aa2-ec77-48df-8750-5547c65532b8",
   "metadata": {},
   "outputs": [
    {
     "data": {
      "text/html": [
       "<div>\n",
       "<style scoped>\n",
       "    .dataframe tbody tr th:only-of-type {\n",
       "        vertical-align: middle;\n",
       "    }\n",
       "\n",
       "    .dataframe tbody tr th {\n",
       "        vertical-align: top;\n",
       "    }\n",
       "\n",
       "    .dataframe thead th {\n",
       "        text-align: right;\n",
       "    }\n",
       "</style>\n",
       "<table border=\"1\" class=\"dataframe\">\n",
       "  <thead>\n",
       "    <tr style=\"text-align: right;\">\n",
       "      <th></th>\n",
       "      <th>order_id</th>\n",
       "      <th>customer_id</th>\n",
       "      <th>order_status</th>\n",
       "      <th>order_purchase_timestamp</th>\n",
       "      <th>order_approved_at</th>\n",
       "      <th>order_delivered_carrier_date</th>\n",
       "      <th>order_delivered_customer_date</th>\n",
       "      <th>order_estimated_delivery_date</th>\n",
       "    </tr>\n",
       "  </thead>\n",
       "  <tbody>\n",
       "  </tbody>\n",
       "</table>\n",
       "</div>"
      ],
      "text/plain": [
       "Empty DataFrame\n",
       "Columns: [order_id, customer_id, order_status, order_purchase_timestamp, order_approved_at, order_delivered_carrier_date, order_delivered_customer_date, order_estimated_delivery_date]\n",
       "Index: []"
      ]
     },
     "execution_count": 16,
     "metadata": {},
     "output_type": "execute_result"
    }
   ],
   "source": [
    "# Handle missing value\n",
    "orders_df[orders_df.order_delivered_carrier_date.isna()]"
   ]
  },
  {
   "cell_type": "markdown",
   "id": "de84a8ce-4b81-4682-9f11-5c5d1c8b6a4c",
   "metadata": {},
   "source": [
    "## Insight: "
   ]
  },
  {
   "cell_type": "markdown",
   "id": "0f643fd8-9bd7-42dc-baaf-44b2210c54f3",
   "metadata": {},
   "source": [
    "- Now the data is clean and ready to next step which exploratory data"
   ]
  },
  {
   "cell_type": "markdown",
   "id": "e2ca505e-22f9-4e03-b361-c824b341692f",
   "metadata": {},
   "source": [
    "# Exploratory Data Analysis (EDA)"
   ]
  },
  {
   "cell_type": "code",
   "execution_count": 17,
   "id": "523a6af1-6141-418a-ad23-a9e2575d4e97",
   "metadata": {},
   "outputs": [
    {
     "data": {
      "text/html": [
       "<div>\n",
       "<style scoped>\n",
       "    .dataframe tbody tr th:only-of-type {\n",
       "        vertical-align: middle;\n",
       "    }\n",
       "\n",
       "    .dataframe tbody tr th {\n",
       "        vertical-align: top;\n",
       "    }\n",
       "\n",
       "    .dataframe thead th {\n",
       "        text-align: right;\n",
       "    }\n",
       "</style>\n",
       "<table border=\"1\" class=\"dataframe\">\n",
       "  <thead>\n",
       "    <tr style=\"text-align: right;\">\n",
       "      <th></th>\n",
       "      <th>Zip Code</th>\n",
       "    </tr>\n",
       "  </thead>\n",
       "  <tbody>\n",
       "    <tr>\n",
       "      <th>count</th>\n",
       "      <td>5.000000</td>\n",
       "    </tr>\n",
       "    <tr>\n",
       "      <th>mean</th>\n",
       "      <td>9436.200000</td>\n",
       "    </tr>\n",
       "    <tr>\n",
       "      <th>std</th>\n",
       "      <td>5172.972811</td>\n",
       "    </tr>\n",
       "    <tr>\n",
       "      <th>min</th>\n",
       "      <td>1151.000000</td>\n",
       "    </tr>\n",
       "    <tr>\n",
       "      <th>25%</th>\n",
       "      <td>8775.000000</td>\n",
       "    </tr>\n",
       "    <tr>\n",
       "      <th>50%</th>\n",
       "      <td>9790.000000</td>\n",
       "    </tr>\n",
       "    <tr>\n",
       "      <th>75%</th>\n",
       "      <td>13056.000000</td>\n",
       "    </tr>\n",
       "    <tr>\n",
       "      <th>max</th>\n",
       "      <td>14409.000000</td>\n",
       "    </tr>\n",
       "  </tbody>\n",
       "</table>\n",
       "</div>"
      ],
      "text/plain": [
       "           Zip Code\n",
       "count      5.000000\n",
       "mean    9436.200000\n",
       "std     5172.972811\n",
       "min     1151.000000\n",
       "25%     8775.000000\n",
       "50%     9790.000000\n",
       "75%    13056.000000\n",
       "max    14409.000000"
      ]
     },
     "execution_count": 17,
     "metadata": {},
     "output_type": "execute_result"
    }
   ],
   "source": [
    "#EDA Customer\n",
    "customer_id = ['06b8999e2fba1a1fbc88172c00ba8bc7', '18955e83d337fd6b2def6b18a428ac77', \n",
    "               '4e7b3e00288586ebd08712fdd0374a03', 'b2b6027bc5c5109e529d4dc6358b12c3', \n",
    "               '4f2d8ab171c80ec8364f7c12e35b23ad']\n",
    "\n",
    "customer_unique_id = ['861eff4711a542e4b93843c6dd7febb0', '290c77bc529b7ac935b93aa66c333dc3', \n",
    "                      '060e732b5b29e8181a18229c7b0b2b5e', '259dac757896d24d7702b9acbbff3f3c', \n",
    "                      '345ecd01c38d18a9036ed96c73b8d066']\n",
    "\n",
    "customer_zip_code_prefix = [14409, 9790, 1151, 8775, 13056]\n",
    "customer_city = ['franca', 'sao bernardo do campo', 'sao paulo', 'mogi das cruzes', 'campinas']\n",
    "customer_state = ['SP', 'SP', 'SP', 'SP', 'SP']\n",
    "\n",
    "custormers_df = pd.DataFrame({\n",
    "    'Customer ID': customer_id,\n",
    "    'Customer Unique ID': customer_unique_id,\n",
    "    'Zip Code': customer_zip_code_prefix,\n",
    "    'Customer City' : customer_city,\n",
    "    'Customer State': customer_state\n",
    "})\n",
    "custormers_df.describe()"
   ]
  },
  {
   "cell_type": "code",
   "execution_count": 18,
   "id": "e06ebb36-1c41-48b6-a2a0-a799fe4a5ce1",
   "metadata": {},
   "outputs": [
    {
     "data": {
      "text/html": [
       "<div>\n",
       "<style scoped>\n",
       "    .dataframe tbody tr th:only-of-type {\n",
       "        vertical-align: middle;\n",
       "    }\n",
       "\n",
       "    .dataframe tbody tr th {\n",
       "        vertical-align: top;\n",
       "    }\n",
       "\n",
       "    .dataframe thead th {\n",
       "        text-align: right;\n",
       "    }\n",
       "</style>\n",
       "<table border=\"1\" class=\"dataframe\">\n",
       "  <thead>\n",
       "    <tr style=\"text-align: right;\">\n",
       "      <th></th>\n",
       "      <th>Customer ID</th>\n",
       "      <th>Customer Unique ID</th>\n",
       "      <th>Zip Code</th>\n",
       "      <th>Customer City</th>\n",
       "      <th>Customer State</th>\n",
       "    </tr>\n",
       "  </thead>\n",
       "  <tbody>\n",
       "    <tr>\n",
       "      <th>count</th>\n",
       "      <td>5</td>\n",
       "      <td>5</td>\n",
       "      <td>5.000000</td>\n",
       "      <td>5</td>\n",
       "      <td>5</td>\n",
       "    </tr>\n",
       "    <tr>\n",
       "      <th>unique</th>\n",
       "      <td>5</td>\n",
       "      <td>5</td>\n",
       "      <td>NaN</td>\n",
       "      <td>5</td>\n",
       "      <td>1</td>\n",
       "    </tr>\n",
       "    <tr>\n",
       "      <th>top</th>\n",
       "      <td>06b8999e2fba1a1fbc88172c00ba8bc7</td>\n",
       "      <td>861eff4711a542e4b93843c6dd7febb0</td>\n",
       "      <td>NaN</td>\n",
       "      <td>franca</td>\n",
       "      <td>SP</td>\n",
       "    </tr>\n",
       "    <tr>\n",
       "      <th>freq</th>\n",
       "      <td>1</td>\n",
       "      <td>1</td>\n",
       "      <td>NaN</td>\n",
       "      <td>1</td>\n",
       "      <td>5</td>\n",
       "    </tr>\n",
       "    <tr>\n",
       "      <th>mean</th>\n",
       "      <td>NaN</td>\n",
       "      <td>NaN</td>\n",
       "      <td>9436.200000</td>\n",
       "      <td>NaN</td>\n",
       "      <td>NaN</td>\n",
       "    </tr>\n",
       "    <tr>\n",
       "      <th>std</th>\n",
       "      <td>NaN</td>\n",
       "      <td>NaN</td>\n",
       "      <td>5172.972811</td>\n",
       "      <td>NaN</td>\n",
       "      <td>NaN</td>\n",
       "    </tr>\n",
       "    <tr>\n",
       "      <th>min</th>\n",
       "      <td>NaN</td>\n",
       "      <td>NaN</td>\n",
       "      <td>1151.000000</td>\n",
       "      <td>NaN</td>\n",
       "      <td>NaN</td>\n",
       "    </tr>\n",
       "    <tr>\n",
       "      <th>25%</th>\n",
       "      <td>NaN</td>\n",
       "      <td>NaN</td>\n",
       "      <td>8775.000000</td>\n",
       "      <td>NaN</td>\n",
       "      <td>NaN</td>\n",
       "    </tr>\n",
       "    <tr>\n",
       "      <th>50%</th>\n",
       "      <td>NaN</td>\n",
       "      <td>NaN</td>\n",
       "      <td>9790.000000</td>\n",
       "      <td>NaN</td>\n",
       "      <td>NaN</td>\n",
       "    </tr>\n",
       "    <tr>\n",
       "      <th>75%</th>\n",
       "      <td>NaN</td>\n",
       "      <td>NaN</td>\n",
       "      <td>13056.000000</td>\n",
       "      <td>NaN</td>\n",
       "      <td>NaN</td>\n",
       "    </tr>\n",
       "    <tr>\n",
       "      <th>max</th>\n",
       "      <td>NaN</td>\n",
       "      <td>NaN</td>\n",
       "      <td>14409.000000</td>\n",
       "      <td>NaN</td>\n",
       "      <td>NaN</td>\n",
       "    </tr>\n",
       "  </tbody>\n",
       "</table>\n",
       "</div>"
      ],
      "text/plain": [
       "                             Customer ID                Customer Unique ID  \\\n",
       "count                                  5                                 5   \n",
       "unique                                 5                                 5   \n",
       "top     06b8999e2fba1a1fbc88172c00ba8bc7  861eff4711a542e4b93843c6dd7febb0   \n",
       "freq                                   1                                 1   \n",
       "mean                                 NaN                               NaN   \n",
       "std                                  NaN                               NaN   \n",
       "min                                  NaN                               NaN   \n",
       "25%                                  NaN                               NaN   \n",
       "50%                                  NaN                               NaN   \n",
       "75%                                  NaN                               NaN   \n",
       "max                                  NaN                               NaN   \n",
       "\n",
       "            Zip Code Customer City Customer State  \n",
       "count       5.000000             5              5  \n",
       "unique           NaN             5              1  \n",
       "top              NaN        franca             SP  \n",
       "freq             NaN             1              5  \n",
       "mean     9436.200000           NaN            NaN  \n",
       "std      5172.972811           NaN            NaN  \n",
       "min      1151.000000           NaN            NaN  \n",
       "25%      8775.000000           NaN            NaN  \n",
       "50%      9790.000000           NaN            NaN  \n",
       "75%     13056.000000           NaN            NaN  \n",
       "max     14409.000000           NaN            NaN  "
      ]
     },
     "execution_count": 18,
     "metadata": {},
     "output_type": "execute_result"
    }
   ],
   "source": [
    "custormers_df.describe(include=\"all\")"
   ]
  },
  {
   "cell_type": "code",
   "execution_count": 19,
   "id": "d22c1990-ca51-40a6-a98c-d5e7d6d0fc99",
   "metadata": {},
   "outputs": [
    {
     "data": {
      "text/plain": [
       "array([[<Axes: title={'center': 'Zip Code'}>]], dtype=object)"
      ]
     },
     "execution_count": 19,
     "metadata": {},
     "output_type": "execute_result"
    },
    {
     "data": {
      "image/png": "[encoded data removed]",
      "text/plain": [
       "<Figure size 640x480 with 1 Axes>"
      ]
     },
     "metadata": {},
     "output_type": "display_data"
    }
   ],
   "source": [
    "#histogram\n",
    "custormers_df.hist()"
   ]
  },
  {
   "cell_type": "code",
   "execution_count": 20,
   "id": "0f5d84c9-b614-4a47-bad5-efdd0406c052",
   "metadata": {},
   "outputs": [],
   "source": [
    "#Nilai korelasi\n",
    "numeric_df = customers_df.select_dtypes(include='number')"
   ]
  },
  {
   "cell_type": "code",
   "execution_count": 21,
   "id": "00322285-6496-47a4-a2a6-edad80951c73",
   "metadata": {},
   "outputs": [
    {
     "data": {
      "text/html": [
       "<div>\n",
       "<style scoped>\n",
       "    .dataframe tbody tr th:only-of-type {\n",
       "        vertical-align: middle;\n",
       "    }\n",
       "\n",
       "    .dataframe tbody tr th {\n",
       "        vertical-align: top;\n",
       "    }\n",
       "\n",
       "    .dataframe thead th {\n",
       "        text-align: right;\n",
       "    }\n",
       "</style>\n",
       "<table border=\"1\" class=\"dataframe\">\n",
       "  <thead>\n",
       "    <tr style=\"text-align: right;\">\n",
       "      <th></th>\n",
       "      <th>customer_zip_code_prefix</th>\n",
       "    </tr>\n",
       "  </thead>\n",
       "  <tbody>\n",
       "    <tr>\n",
       "      <th>customer_zip_code_prefix</th>\n",
       "      <td>1.0</td>\n",
       "    </tr>\n",
       "  </tbody>\n",
       "</table>\n",
       "</div>"
      ],
      "text/plain": [
       "                          customer_zip_code_prefix\n",
       "customer_zip_code_prefix                       1.0"
      ]
     },
     "execution_count": 21,
     "metadata": {},
     "output_type": "execute_result"
    }
   ],
   "source": [
    "numeric_df.corr()"
   ]
  },
  {
   "cell_type": "code",
   "execution_count": 22,
   "id": "3b532407-8cc1-462e-a97f-f38ad3a9944f",
   "metadata": {},
   "outputs": [],
   "source": [
    "#EDA Orders\n",
    "order_id = ['e481f51cbdc54678b7cc49136f2d6af7', '53cdb2fc8bc7dce0b6741e2150273451', \n",
    "            '47770eb9100c2d0c44946d9cf07ec65d', '949d5b44dbf5de918fe9c16f97b45f8a', \n",
    "            'ad21c59c0840e6cb83a9ceb5573f8159']\n",
    "\n",
    "customer_id = ['9ef432eb6251297304e76186b10a928d', 'b0830fb4747a6c6d20dea0b8c802d7ef', \n",
    "               '41ce2a54c0b03bf3443c3d931a367089', 'f88197465ea7920adcdbec7375364d82', \n",
    "               '8ab97904e6daea8866dbdbc4fb7aad2c']\n",
    "\n",
    "order_status = ['delivered', 'delivered', 'delivered', 'delivered', 'delivered']\n",
    "\n",
    "order_purchase_timestamp = ['10/2/2017 10:56', '7/24/2018 20:41', '8/8/2018 8:38', \n",
    "                            '11/18/2017 19:28', '2/13/2018 21:18']\n",
    "\n",
    "order_approved_at = ['10/2/2017 11:07', '7/26/2018 3:24', '8/8/2018 8:55', \n",
    "                     '11/18/2017 19:45', '2/13/2018 22:20']\n",
    "\n",
    "order_delivered_carrier_date = ['10/4/2017 19:55', '7/26/2018 14:31', '8/8/2018 13:50', \n",
    "                                '11/22/2017 13:39', '2/14/2018 19:46']\n",
    "\n",
    "order_delivered_customer_date = ['10/10/2017 21:25', '8/7/2018 15:27', '8/17/2018 18:06', \n",
    "                                 '12/2/2017 0:28', '2/16/2018 18:17']\n",
    "\n",
    "order_estimated_delivery_date = ['10/18/2017 0:00', '8/13/2018 0:00', '9/4/2018 0:00', \n",
    "                                 '12/15/2017 0:00', '2/26/2018 0:00']\n",
    "orders_df = pd.DataFrame({\n",
    "    'Order ID': order_id,\n",
    "    'Customer ID': customer_id,\n",
    "    'Order Status': order_status,\n",
    "    'Order Purchase Timestamp': order_purchase_timestamp,\n",
    "    'Order Approved At': order_approved_at,\n",
    "    'Order Delivered Carrier Date': order_delivered_carrier_date,\n",
    "    'Order Delivered Customer Date': order_delivered_customer_date,\n",
    "    'Order Estimated Delivery Date': order_estimated_delivery_date\n",
    "})"
   ]
  },
  {
   "cell_type": "code",
   "execution_count": 23,
   "id": "8b27cfd7-75ca-4fcc-8ff6-b5a18930468a",
   "metadata": {},
   "outputs": [
    {
     "data": {
      "text/html": [
       "<div>\n",
       "<style scoped>\n",
       "    .dataframe tbody tr th:only-of-type {\n",
       "        vertical-align: middle;\n",
       "    }\n",
       "\n",
       "    .dataframe tbody tr th {\n",
       "        vertical-align: top;\n",
       "    }\n",
       "\n",
       "    .dataframe thead th {\n",
       "        text-align: right;\n",
       "    }\n",
       "</style>\n",
       "<table border=\"1\" class=\"dataframe\">\n",
       "  <thead>\n",
       "    <tr style=\"text-align: right;\">\n",
       "      <th></th>\n",
       "      <th>Order ID</th>\n",
       "      <th>Customer ID</th>\n",
       "      <th>Order Status</th>\n",
       "      <th>Order Purchase Timestamp</th>\n",
       "      <th>Order Approved At</th>\n",
       "      <th>Order Delivered Carrier Date</th>\n",
       "      <th>Order Delivered Customer Date</th>\n",
       "      <th>Order Estimated Delivery Date</th>\n",
       "    </tr>\n",
       "  </thead>\n",
       "  <tbody>\n",
       "    <tr>\n",
       "      <th>count</th>\n",
       "      <td>5</td>\n",
       "      <td>5</td>\n",
       "      <td>5</td>\n",
       "      <td>5</td>\n",
       "      <td>5</td>\n",
       "      <td>5</td>\n",
       "      <td>5</td>\n",
       "      <td>5</td>\n",
       "    </tr>\n",
       "    <tr>\n",
       "      <th>unique</th>\n",
       "      <td>5</td>\n",
       "      <td>5</td>\n",
       "      <td>1</td>\n",
       "      <td>5</td>\n",
       "      <td>5</td>\n",
       "      <td>5</td>\n",
       "      <td>5</td>\n",
       "      <td>5</td>\n",
       "    </tr>\n",
       "    <tr>\n",
       "      <th>top</th>\n",
       "      <td>e481f51cbdc54678b7cc49136f2d6af7</td>\n",
       "      <td>9ef432eb6251297304e76186b10a928d</td>\n",
       "      <td>delivered</td>\n",
       "      <td>10/2/2017 10:56</td>\n",
       "      <td>10/2/2017 11:07</td>\n",
       "      <td>10/4/2017 19:55</td>\n",
       "      <td>10/10/2017 21:25</td>\n",
       "      <td>10/18/2017 0:00</td>\n",
       "    </tr>\n",
       "    <tr>\n",
       "      <th>freq</th>\n",
       "      <td>1</td>\n",
       "      <td>1</td>\n",
       "      <td>5</td>\n",
       "      <td>1</td>\n",
       "      <td>1</td>\n",
       "      <td>1</td>\n",
       "      <td>1</td>\n",
       "      <td>1</td>\n",
       "    </tr>\n",
       "  </tbody>\n",
       "</table>\n",
       "</div>"
      ],
      "text/plain": [
       "                                Order ID                       Customer ID  \\\n",
       "count                                  5                                 5   \n",
       "unique                                 5                                 5   \n",
       "top     e481f51cbdc54678b7cc49136f2d6af7  9ef432eb6251297304e76186b10a928d   \n",
       "freq                                   1                                 1   \n",
       "\n",
       "       Order Status Order Purchase Timestamp Order Approved At  \\\n",
       "count             5                        5                 5   \n",
       "unique            1                        5                 5   \n",
       "top       delivered          10/2/2017 10:56   10/2/2017 11:07   \n",
       "freq              5                        1                 1   \n",
       "\n",
       "       Order Delivered Carrier Date Order Delivered Customer Date  \\\n",
       "count                             5                             5   \n",
       "unique                            5                             5   \n",
       "top                 10/4/2017 19:55              10/10/2017 21:25   \n",
       "freq                              1                             1   \n",
       "\n",
       "       Order Estimated Delivery Date  \n",
       "count                              5  \n",
       "unique                             5  \n",
       "top                  10/18/2017 0:00  \n",
       "freq                               1  "
      ]
     },
     "execution_count": 23,
     "metadata": {},
     "output_type": "execute_result"
    }
   ],
   "source": [
    "orders_df.describe(include='all')"
   ]
  },
  {
   "cell_type": "code",
   "execution_count": 24,
   "id": "297a9f16-f9d2-45a2-a31b-469e6781ec66",
   "metadata": {},
   "outputs": [
    {
     "data": {
      "text/plain": [
       "<Axes: >"
      ]
     },
     "execution_count": 24,
     "metadata": {},
     "output_type": "execute_result"
    },
    {
     "data": {
      "image/png": "[encoded data removed]",
      "text/plain": [
       "<Figure size 640x480 with 1 Axes>"
      ]
     },
     "metadata": {},
     "output_type": "display_data"
    }
   ],
   "source": [
    "#histogram\n",
    "orders_df['Order Purchase Timestamp'] = pd.to_datetime(orders_df['Order Purchase Timestamp'])\n",
    "orders_df['Order Delivered Customer Date'] = pd.to_datetime(orders_df['Order Delivered Customer Date'])\n",
    "\n",
    "orders_df['Delivery Duration'] = (orders_df['Order Delivered Customer Date'] - orders_df['Order Purchase Timestamp']).dt.days\n",
    "\n",
    "orders_df['Delivery Duration'].hist()"
   ]
  },
  {
   "cell_type": "code",
   "execution_count": 25,
   "id": "727ec9be-e63d-4798-951a-a040cb5f4620",
   "metadata": {},
   "outputs": [],
   "source": [
    "#Nilai korelasi\n",
    "numeric_df = orders_df.select_dtypes(include='number')"
   ]
  },
  {
   "cell_type": "code",
   "execution_count": 26,
   "id": "8b2b2737-2e5e-4005-a336-82239f72f407",
   "metadata": {},
   "outputs": [
    {
     "data": {
      "text/html": [
       "<div>\n",
       "<style scoped>\n",
       "    .dataframe tbody tr th:only-of-type {\n",
       "        vertical-align: middle;\n",
       "    }\n",
       "\n",
       "    .dataframe tbody tr th {\n",
       "        vertical-align: top;\n",
       "    }\n",
       "\n",
       "    .dataframe thead th {\n",
       "        text-align: right;\n",
       "    }\n",
       "</style>\n",
       "<table border=\"1\" class=\"dataframe\">\n",
       "  <thead>\n",
       "    <tr style=\"text-align: right;\">\n",
       "      <th></th>\n",
       "      <th>Delivery Duration</th>\n",
       "    </tr>\n",
       "  </thead>\n",
       "  <tbody>\n",
       "    <tr>\n",
       "      <th>Delivery Duration</th>\n",
       "      <td>1.0</td>\n",
       "    </tr>\n",
       "  </tbody>\n",
       "</table>\n",
       "</div>"
      ],
      "text/plain": [
       "                   Delivery Duration\n",
       "Delivery Duration                1.0"
      ]
     },
     "execution_count": 26,
     "metadata": {},
     "output_type": "execute_result"
    }
   ],
   "source": [
    "numeric_df.corr()"
   ]
  },
  {
   "cell_type": "markdown",
   "id": "f201c275-1b3c-45fd-a16a-f7eddad7523f",
   "metadata": {},
   "source": [
    "# Visualization & Explanatory Analysis"
   ]
  },
  {
   "cell_type": "markdown",
   "id": "3dab9594-70ea-48c4-9da2-c948694e771b",
   "metadata": {},
   "source": [
    "1. What can we conclude about the market potential in these cities?"
   ]
  },
  {
   "cell_type": "code",
   "execution_count": 27,
   "id": "707ae427-232a-4d3a-ad6c-402eb5304824",
   "metadata": {},
   "outputs": [
    {
     "data": {
      "image/png": "[encoded data removed]",
      "text/plain": [
       "<Figure size 1000x600 with 1 Axes>"
      ]
     },
     "metadata": {},
     "output_type": "display_data"
    }
   ],
   "source": [
    "#customer_df\n",
    "# Visualisasi: Jumlah pelanggan berdasarkan kota\n",
    "customer_id = ['06b8999e2fba1a1fbc88172c00ba8bc7', \n",
    "               '18955e83d337fd6b2def6b18a428ac77', \n",
    "               '4e7b3e00288586ebd08712fdd0374a03', \n",
    "               'b2b6027bc5c5109e529d4dc6358b12c3', \n",
    "               '4f2d8ab171c80ec8364f7c12e35b23ad']\n",
    "\n",
    "customer_unique_id = ['861eff4711a542e4b93843c6dd7febb0', \n",
    "                      '290c77bc529b7ac935b93aa66c333dc3', \n",
    "                      '060e732b5b29e8181a18229c7b0b2b5e', \n",
    "                      '259dac757896d24d7702b9acbbff3f3c', \n",
    "                      '345ecd01c38d18a9036ed96c73b8d066']\n",
    "\n",
    "customer_zip_code_prefix = [14409, 9790, 1151, 8775, 13056]\n",
    "customer_city = ['franca', 'sao bernardo do campo', 'sao paulo', 'mogi das cruzes', 'campinas']\n",
    "customer_state = ['SP', 'SP', 'SP', 'SP', 'SP']\n",
    "\n",
    "customers_df = pd.DataFrame({\n",
    "    'Customer ID': customer_id,\n",
    "    'Customer Unique ID': customer_unique_id,\n",
    "    'Zip Code': customer_zip_code_prefix,\n",
    "    'Customer City': customer_city,\n",
    "    'Customer State': customer_state\n",
    "})\n",
    "\n",
    "# Visualisasi: Jumlah pelanggan berdasarkan kota\n",
    "plt.figure(figsize=(10, 6))\n",
    "sns.countplot(data=customers_df, x='Customer City', hue='Customer City', palette='Set2', legend=False)\n",
    "plt.title('Jumlah Pelanggan berdasarkan Kota')\n",
    "plt.xlabel('Kota')\n",
    "plt.ylabel('Jumlah Pelanggan')\n",
    "plt.xticks(rotation=45)\n",
    "plt.show()"
   ]
  },
  {
   "cell_type": "markdown",
   "id": "acebfed5-3005-4af1-8fc0-12a466ae66b1",
   "metadata": {},
   "source": [
    "All cities have a relatively balanced distribution of the number of customers."
   ]
  },
  {
   "cell_type": "markdown",
   "id": "7ca1a413-2e89-4ffc-be30-ccdddae83a85",
   "metadata": {},
   "source": [
    "2. How long is the average delivery time for orders?"
   ]
  },
  {
   "cell_type": "code",
   "execution_count": 28,
   "id": "bb81072f-6461-4af9-a85b-bb53c3afac36",
   "metadata": {},
   "outputs": [
    {
     "data": {
      "image/png": "[encoded data removed]",
      "text/plain": [
       "<Figure size 1000x600 with 1 Axes>"
      ]
     },
     "metadata": {},
     "output_type": "display_data"
    }
   ],
   "source": [
    "order_id = ['e481f51cbdc54678b7cc49136f2d6af7', '53cdb2fc8bc7dce0b6741e2150273451', \n",
    "            '47770eb9100c2d0c44946d9cf07ec65d', '949d5b44dbf5de918fe9c16f97b45f8a', \n",
    "            'ad21c59c0840e6cb83a9ceb5573f8159']\n",
    "\n",
    "customer_id = ['9ef432eb6251297304e76186b10a928d', 'b0830fb4747a6c6d20dea0b8c802d7ef', \n",
    "               '41ce2a54c0b03bf3443c3d931a367089', 'f88197465ea7920adcdbec7375364d82', \n",
    "               '8ab97904e6daea8866dbdbc4fb7aad2c']\n",
    "\n",
    "order_status = ['delivered', 'delivered', 'delivered', 'delivered', 'delivered']\n",
    "\n",
    "order_purchase_timestamp = ['10/2/2017 10:56', '7/24/2018 20:41', '8/8/2018 8:38', \n",
    "                            '11/18/2017 19:28', '2/13/2018 21:18']\n",
    "\n",
    "order_approved_at = ['10/2/2017 11:07', '7/26/2018 3:24', '8/8/2018 8:55', \n",
    "                     '11/18/2017 19:45', '2/13/2018 22:20']\n",
    "\n",
    "order_delivered_carrier_date = ['10/4/2017 19:55', '7/26/2018 14:31', '8/8/2018 13:50', \n",
    "                                '11/22/2017 13:39', '2/14/2018 19:46']\n",
    "\n",
    "order_delivered_customer_date = ['10/10/2017 21:25', '8/7/2018 15:27', '8/17/2018 18:06', \n",
    "                                 '12/2/2017 0:28', '2/16/2018 18:17']\n",
    "\n",
    "order_estimated_delivery_date = ['10/18/2017 0:00', '8/13/2018 0:00', '9/4/2018 0:00', \n",
    "                                 '12/15/2017 0:00', '2/26/2018 0:00']\n",
    "\n",
    "orders_df = pd.DataFrame({\n",
    "    'Order ID': order_id,\n",
    "    'Customer ID': customer_id,\n",
    "    'Order Status': order_status,\n",
    "    'Order Purchase Timestamp': order_purchase_timestamp,\n",
    "    'Order Approved At': order_approved_at,\n",
    "    'Order Delivered Carrier Date': order_delivered_carrier_date,\n",
    "    'Order Delivered Customer Date': order_delivered_customer_date,\n",
    "    'Order Estimated Delivery Date': order_estimated_delivery_date\n",
    "})\n",
    "orders_df['Order Purchase Timestamp'] = pd.to_datetime(orders_df['Order Purchase Timestamp'])\n",
    "orders_df['Order Delivered Customer Date'] = pd.to_datetime(orders_df['Order Delivered Customer Date'])\n",
    "\n",
    "# Visualisasi: Waktu Pengiriman Pesanan\n",
    "orders_df['Delivery Time'] = (orders_df['Order Delivered Customer Date'] - orders_df['Order Purchase Timestamp']).dt.days\n",
    "\n",
    "plt.figure(figsize=(10, 6))\n",
    "sns.boxplot(y=orders_df['Delivery Time'])\n",
    "plt.title('Waktu Pengiriman Pesanan (dalam hari)')\n",
    "plt.ylabel('Waktu Pengiriman (hari)')\n",
    "plt.grid()\n",
    "plt.show()"
   ]
  },
  {
   "cell_type": "markdown",
   "id": "075ef096-eded-46bf-928a-35c9483439f4",
   "metadata": {},
   "source": [
    "2. Average delivery time is 9 days"
   ]
  },
  {
   "cell_type": "markdown",
   "id": "90955954-63f5-456e-b982-a7824301f2bc",
   "metadata": {},
   "source": [
    "# Conclusion"
   ]
  },
  {
   "cell_type": "markdown",
   "id": "f6bde653-0850-407c-b304-11c249f6b20c",
   "metadata": {},
   "source": [
    "1. The market potential in the cities displayed in the visualization shows that all cities have a relatively balanced distribution of customer numbers, indicating that no single city significantly dominates the market.\n",
    "2. The generated visualization helps in understanding shipping patterns and identifying potential issues in the delivery process. This analysis can be used to improve the efficiency and speed of deliveries in the future."
   ]
  }
 ],
 "metadata": {
  "kernelspec": {
   "display_name": "Python 3 (ipykernel)",
   "language": "python",
   "name": "python3"
  },
  "language_info": {
   "codemirror_mode": {
    "name": "ipython",
    "version": 3
   },
   "file_extension": ".py",
   "mimetype": "text/x-python",
   "name": "python",
   "nbconvert_exporter": "python",
   "pygments_lexer": "ipython3",
   "version": "3.12.6"
  }
 },
 "nbformat": 4,
 "nbformat_minor": 5
}
